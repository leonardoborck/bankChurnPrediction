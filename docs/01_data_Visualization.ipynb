{
  "nbformat": 4,
  "nbformat_minor": 0,
  "metadata": {
    "colab": {
      "provenance": [],
      "collapsed_sections": [],
      "authorship_tag": "ABX9TyORc+eFhYjHAHVF91lPM2Xt",
      "include_colab_link": true
    },
    "kernelspec": {
      "name": "python3",
      "display_name": "Python 3"
    },
    "language_info": {
      "name": "python"
    }
  },
  "cells": [
    {
      "cell_type": "markdown",
      "metadata": {
        "id": "view-in-github",
        "colab_type": "text"
      },
      "source": [
        "<a href=\"https://colab.research.google.com/github/leonardoborck/bankChurnPrediction/blob/main/docs/01_data_Visualization.ipynb\" target=\"_parent\"><img src=\"https://colab.research.google.com/assets/colab-badge.svg\" alt=\"Open In Colab\"/></a>"
      ]
    },
    {
      "cell_type": "markdown",
      "source": [
        "### Acadêmicos: \n",
        "Leonardo Borck da Silveira, Luiz Felipe Cipriani Morfelle e Victor Trindade de Carvalho\n",
        "\n",
        "#Seleção da Database\n",
        "##Database:\n",
        "Churn for Bank Customers Public Database https://www.kaggle.com/datasets/mathchi/churn-for-bank-customers?resource=download&select=churn.csv\n",
        "\n",
        "###Descrição:\n",
        "A database, provida por data.world que uma empresa que tem como propósito ser um catálogo de dados corporativos para a pilha de dados moderna, contém dados de dez mil clientes e ex-clientes de um banco. \n",
        "\n",
        "###Problema de Negócio:\n",
        "Quais são os principais fatores que impactam no desligamento do cliente em um banco? Como prever quais clientes possívelmente irão se desligar do banco?\n",
        "\n",
        "•Quantidade de atributos: 14; <br> \n",
        "•Quantidade de registros: 10.0k;\n",
        "\n",
        "###Perguntas: \n",
        "Como as vendas foram afetadas entre 2016 e 2018?\n",
        "Existe diferença significativa de venda para cada um dos seguintes fatores:\n",
        "Mês\n",
        "Dia da Semana\n",
        "Método de Pagamento\n",
        "Região\n",
        "Quais produtos e categoria possuem maiores vendas? <br> \n",
        "As notas de review do produto possuem impacto no número de vendas? <br> \n",
        "Realizar plot de nuvem de palavras <br> \n",
        "A localização impacta no tempo de entrega? <br> \n",
        "Heatmap por localização (Mapa) <br> \n",
        "O tempo de entrega impacta no review do produto? <br> \n",
        "Quais categorias são mais consumidas por região? <br> \n",
        "Diferentes regiões possuem maior adesão por diferentes tipos de produto? <br> "
      ],
      "metadata": {
        "id": "Ts4GzDg6ggVz"
      }
    },
    {
      "cell_type": "code",
      "execution_count": null,
      "metadata": {
        "id": "-wXJHflGgQVi"
      },
      "outputs": [],
      "source": []
    }
  ]
}